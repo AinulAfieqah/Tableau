{
  "nbformat": 4,
  "nbformat_minor": 0,
  "metadata": {
    "colab": {
      "name": "Project 1 (COVID19): Data Cleaning.ipynb",
      "provenance": []
    },
    "kernelspec": {
      "name": "python3",
      "display_name": "Python 3"
    }
  },
  "cells": [
    {
      "cell_type": "markdown",
      "metadata": {
        "id": "JRGJePtTU3fE"
      },
      "source": [
        "This file showing the data cleaning process for this project. Since the data will be updated daily, thus finding the simplest and efficient steps to do the cleaning is very necessary. Besides, there are not much types of noise in the datasets; mostly regarding the null values.\n",
        "\n",
        "https://pandas.pydata.org/pandas-docs/stable/user_guide/missing_data.html"
      ]
    },
    {
      "cell_type": "markdown",
      "metadata": {
        "id": "QuqYgQi32sT7"
      },
      "source": [
        "###Import Library"
      ]
    },
    {
      "cell_type": "code",
      "metadata": {
        "id": "fjprs8M8Psr7"
      },
      "source": [
        "import pandas as pd\n",
        "\n",
        "## To view data max of rows\n",
        "pd.options.display.expand_frame_repr = False"
      ],
      "execution_count": 17,
      "outputs": []
    },
    {
      "cell_type": "markdown",
      "metadata": {
        "id": "11HePTnk27G_"
      },
      "source": [
        "###Mount Drive and Import Dataset"
      ]
    },
    {
      "cell_type": "code",
      "metadata": {
        "id": "Ir83Mixt2_rv",
        "outputId": "679bdd45-fa75-4af1-88ae-f5436d76a090",
        "colab": {
          "base_uri": "https://localhost:8080/",
          "height": 34
        }
      },
      "source": [
        "from google.colab import drive\n",
        "drive.mount('/content/gdrive/')\n",
        "\n",
        "data_path = '/content/gdrive/My Drive/Tableau/Data/' ##Change this according to your path drive"
      ],
      "execution_count": 18,
      "outputs": [
        {
          "output_type": "stream",
          "text": [
            "Drive already mounted at /content/gdrive/; to attempt to forcibly remount, call drive.mount(\"/content/gdrive/\", force_remount=True).\n"
          ],
          "name": "stdout"
        }
      ]
    },
    {
      "cell_type": "markdown",
      "metadata": {
        "id": "dbkN51hm3Fx4"
      },
      "source": [
        "###View of Original Data"
      ]
    },
    {
      "cell_type": "code",
      "metadata": {
        "id": "zMbcN4ER3Kd4",
        "outputId": "2e53907d-3b8a-46f8-9302-1f600ef8406a",
        "colab": {
          "base_uri": "https://localhost:8080/",
          "height": 309
        }
      },
      "source": [
        "print(\"----- ORIGINAL DATA -----\")\n",
        "\n",
        "df = pd.read_excel(data_path+\"covid_131020.xlsx\") \n",
        "print(\"COVID DATA :\", df.shape)\n",
        "print(df)"
      ],
      "execution_count": 19,
      "outputs": [
        {
          "output_type": "stream",
          "text": [
            "----- ORIGINAL DATA -----\n",
            "COVID DATA : (49878, 41)\n",
            "      iso_code      continent       location        date  total_cases  new_cases  new_cases_smoothed  total_deaths  new_deaths  new_deaths_smoothed  total_cases_per_million  new_cases_per_million  new_cases_smoothed_per_million  total_deaths_per_million  new_deaths_per_million  new_deaths_smoothed_per_million  new_tests  total_tests  total_tests_per_thousand  new_tests_per_thousand  new_tests_smoothed  new_tests_smoothed_per_thousand  tests_per_case  positive_rate tests_units  stringency_index  population  population_density  median_age  aged_65_older  aged_70_older  gdp_per_capita  extreme_poverty  cardiovasc_death_rate  diabetes_prevalence  female_smokers  male_smokers  handwashing_facilities  hospital_beds_per_thousand  life_expectancy  human_development_index\n",
            "0          ABW  North America          Aruba  2020-03-13          2.0        2.0                 NaN           0.0         0.0                  NaN                   18.733                 18.733                             NaN                       0.0                     0.0                              NaN        NaN          NaN                       NaN                     NaN                 NaN                              NaN             NaN            NaN         NaN              0.00    106766.0               584.8        41.2         13.085          7.452       35973.781              NaN                    NaN                11.62             NaN           NaN                     NaN                         NaN            76.29                      NaN\n",
            "1          ABW  North America          Aruba  2020-03-19          NaN        NaN               0.286           NaN         NaN                  0.0                      NaN                    NaN                           2.676                       NaN                     NaN                              0.0        NaN          NaN                       NaN                     NaN                 NaN                              NaN             NaN            NaN         NaN             33.33    106766.0               584.8        41.2         13.085          7.452       35973.781              NaN                    NaN                11.62             NaN           NaN                     NaN                         NaN            76.29                      NaN\n",
            "2          ABW  North America          Aruba  2020-03-20          4.0        2.0               0.286           0.0         0.0                  0.0                   37.465                 18.733                           2.676                       0.0                     0.0                              0.0        NaN          NaN                       NaN                     NaN                 NaN                              NaN             NaN            NaN         NaN             33.33    106766.0               584.8        41.2         13.085          7.452       35973.781              NaN                    NaN                11.62             NaN           NaN                     NaN                         NaN            76.29                      NaN\n",
            "3          ABW  North America          Aruba  2020-03-21          NaN        NaN               0.286           NaN         NaN                  0.0                      NaN                    NaN                           2.676                       NaN                     NaN                              0.0        NaN          NaN                       NaN                     NaN                 NaN                              NaN             NaN            NaN         NaN             44.44    106766.0               584.8        41.2         13.085          7.452       35973.781              NaN                    NaN                11.62             NaN           NaN                     NaN                         NaN            76.29                      NaN\n",
            "4          ABW  North America          Aruba  2020-03-22          NaN        NaN               0.286           NaN         NaN                  0.0                      NaN                    NaN                           2.676                       NaN                     NaN                              0.0        NaN          NaN                       NaN                     NaN                 NaN                              NaN             NaN            NaN         NaN             44.44    106766.0               584.8        41.2         13.085          7.452       35973.781              NaN                    NaN                11.62             NaN           NaN                     NaN                         NaN            76.29                      NaN\n",
            "...        ...            ...            ...         ...          ...        ...                 ...           ...         ...                  ...                      ...                    ...                             ...                       ...                     ...                              ...        ...          ...                       ...                     ...                 ...                              ...             ...            ...         ...               ...         ...                 ...         ...            ...            ...             ...              ...                    ...                  ...             ...           ...                     ...                         ...              ...                      ...\n",
            "49873      NaN            NaN  International  2020-10-09        696.0        NaN                 NaN           7.0         NaN                  NaN                      NaN                    NaN                             NaN                       NaN                     NaN                              NaN        NaN          NaN                       NaN                     NaN                 NaN                              NaN             NaN            NaN         NaN               NaN         NaN                 NaN         NaN            NaN            NaN             NaN              NaN                    NaN                  NaN             NaN           NaN                     NaN                         NaN              NaN                      NaN\n",
            "49874      NaN            NaN  International  2020-10-10        696.0        NaN                 NaN           7.0         NaN                  NaN                      NaN                    NaN                             NaN                       NaN                     NaN                              NaN        NaN          NaN                       NaN                     NaN                 NaN                              NaN             NaN            NaN         NaN               NaN         NaN                 NaN         NaN            NaN            NaN             NaN              NaN                    NaN                  NaN             NaN           NaN                     NaN                         NaN              NaN                      NaN\n",
            "49875      NaN            NaN  International  2020-10-11        696.0        NaN                 NaN           7.0         NaN                  NaN                      NaN                    NaN                             NaN                       NaN                     NaN                              NaN        NaN          NaN                       NaN                     NaN                 NaN                              NaN             NaN            NaN         NaN               NaN         NaN                 NaN         NaN            NaN            NaN             NaN              NaN                    NaN                  NaN             NaN           NaN                     NaN                         NaN              NaN                      NaN\n",
            "49876      NaN            NaN  International  2020-10-12        696.0        NaN                 NaN           7.0         NaN                  NaN                      NaN                    NaN                             NaN                       NaN                     NaN                              NaN        NaN          NaN                       NaN                     NaN                 NaN                              NaN             NaN            NaN         NaN               NaN         NaN                 NaN         NaN            NaN            NaN             NaN              NaN                    NaN                  NaN             NaN           NaN                     NaN                         NaN              NaN                      NaN\n",
            "49877      NaN            NaN  International  2020-10-13        696.0        NaN                 NaN           7.0         NaN                  NaN                      NaN                    NaN                             NaN                       NaN                     NaN                              NaN        NaN          NaN                       NaN                     NaN                 NaN                              NaN             NaN            NaN         NaN               NaN         NaN                 NaN         NaN            NaN            NaN             NaN              NaN                    NaN                  NaN             NaN           NaN                     NaN                         NaN              NaN                      NaN\n",
            "\n",
            "[49878 rows x 41 columns]\n"
          ],
          "name": "stdout"
        }
      ]
    },
    {
      "cell_type": "markdown",
      "metadata": {
        "id": "2zc60vRb5lKT"
      },
      "source": [
        "###Remove Unnecessary Data\n",
        "\n",
        "The column starts from new_tests afterwards are removed since there is insufficient data provided in the dataset. Plus, these data are minor information and not really much helpful to put in Tableau.\n",
        "\n",
        "Error when using ix: https://stackoverflow.com/questions/59991397/attributeerror-dataframe-object-has-no-attribute-ix\n",
        "\n",
        "Drop multiple columns: https://www.geeksforgeeks.org/how-to-drop-one-or-multiple-columns-in-pandas-dataframe/"
      ]
    },
    {
      "cell_type": "code",
      "metadata": {
        "id": "Ad1MxfAT5qKb",
        "outputId": "eb59a1be-cee2-412a-fdf6-6f24135b8b0d",
        "colab": {
          "base_uri": "https://localhost:8080/",
          "height": 731
        }
      },
      "source": [
        "print(df.isnull().sum())"
      ],
      "execution_count": 20,
      "outputs": [
        {
          "output_type": "stream",
          "text": [
            "iso_code                             288\n",
            "continent                            576\n",
            "location                               0\n",
            "date                                   0\n",
            "total_cases                          636\n",
            "new_cases                            860\n",
            "new_cases_smoothed                  1642\n",
            "total_deaths                         636\n",
            "new_deaths                           860\n",
            "new_deaths_smoothed                 1642\n",
            "total_cases_per_million              924\n",
            "new_cases_per_million                924\n",
            "new_cases_smoothed_per_million      1707\n",
            "total_deaths_per_million             924\n",
            "new_deaths_per_million               924\n",
            "new_deaths_smoothed_per_million     1707\n",
            "new_tests                          31837\n",
            "total_tests                        31412\n",
            "total_tests_per_thousand           31412\n",
            "new_tests_per_thousand             31837\n",
            "new_tests_smoothed                 29447\n",
            "new_tests_smoothed_per_thousand    29447\n",
            "tests_per_case                     31069\n",
            "positive_rate                      30607\n",
            "tests_units                        28590\n",
            "stringency_index                    8453\n",
            "population                           288\n",
            "population_density                  2571\n",
            "median_age                          5433\n",
            "aged_65_older                       6097\n",
            "aged_70_older                       5664\n",
            "gdp_per_capita                      6015\n",
            "extreme_poverty                    20627\n",
            "cardiovasc_death_rate               5446\n",
            "diabetes_prevalence                 3851\n",
            "female_smokers                     15135\n",
            "male_smokers                       15578\n",
            "handwashing_facilities             29007\n",
            "hospital_beds_per_thousand          9781\n",
            "life_expectancy                      918\n",
            "human_development_index             6995\n",
            "dtype: int64\n"
          ],
          "name": "stdout"
        }
      ]
    },
    {
      "cell_type": "code",
      "metadata": {
        "id": "975TFDvVHtaJ"
      },
      "source": [
        "df1 = df.drop(df.loc[:, 'new_tests':'human_development_index'].columns, axis = 1) "
      ],
      "execution_count": 21,
      "outputs": []
    },
    {
      "cell_type": "code",
      "metadata": {
        "id": "6OPKnSQ_M2Be",
        "outputId": "1d3f13a3-9fe2-432f-8b11-893db7562066",
        "colab": {
          "base_uri": "https://localhost:8080/",
          "height": 275
        }
      },
      "source": [
        "print(df1)"
      ],
      "execution_count": 22,
      "outputs": [
        {
          "output_type": "stream",
          "text": [
            "      iso_code      continent       location        date  total_cases  new_cases  new_cases_smoothed  total_deaths  new_deaths  new_deaths_smoothed  total_cases_per_million  new_cases_per_million  new_cases_smoothed_per_million  total_deaths_per_million  new_deaths_per_million  new_deaths_smoothed_per_million\n",
            "0          ABW  North America          Aruba  2020-03-13          2.0        2.0                 NaN           0.0         0.0                  NaN                   18.733                 18.733                             NaN                       0.0                     0.0                              NaN\n",
            "1          ABW  North America          Aruba  2020-03-19          NaN        NaN               0.286           NaN         NaN                  0.0                      NaN                    NaN                           2.676                       NaN                     NaN                              0.0\n",
            "2          ABW  North America          Aruba  2020-03-20          4.0        2.0               0.286           0.0         0.0                  0.0                   37.465                 18.733                           2.676                       0.0                     0.0                              0.0\n",
            "3          ABW  North America          Aruba  2020-03-21          NaN        NaN               0.286           NaN         NaN                  0.0                      NaN                    NaN                           2.676                       NaN                     NaN                              0.0\n",
            "4          ABW  North America          Aruba  2020-03-22          NaN        NaN               0.286           NaN         NaN                  0.0                      NaN                    NaN                           2.676                       NaN                     NaN                              0.0\n",
            "...        ...            ...            ...         ...          ...        ...                 ...           ...         ...                  ...                      ...                    ...                             ...                       ...                     ...                              ...\n",
            "49873      NaN            NaN  International  2020-10-09        696.0        NaN                 NaN           7.0         NaN                  NaN                      NaN                    NaN                             NaN                       NaN                     NaN                              NaN\n",
            "49874      NaN            NaN  International  2020-10-10        696.0        NaN                 NaN           7.0         NaN                  NaN                      NaN                    NaN                             NaN                       NaN                     NaN                              NaN\n",
            "49875      NaN            NaN  International  2020-10-11        696.0        NaN                 NaN           7.0         NaN                  NaN                      NaN                    NaN                             NaN                       NaN                     NaN                              NaN\n",
            "49876      NaN            NaN  International  2020-10-12        696.0        NaN                 NaN           7.0         NaN                  NaN                      NaN                    NaN                             NaN                       NaN                     NaN                              NaN\n",
            "49877      NaN            NaN  International  2020-10-13        696.0        NaN                 NaN           7.0         NaN                  NaN                      NaN                    NaN                             NaN                       NaN                     NaN                              NaN\n",
            "\n",
            "[49878 rows x 16 columns]\n"
          ],
          "name": "stdout"
        }
      ]
    },
    {
      "cell_type": "markdown",
      "metadata": {
        "id": "3xq1kA3oMB3V"
      },
      "source": [
        "Recheck the null values in remaining dataset and replace the remaining null values with 0\n",
        "\n",
        "https://datatofish.com/replace-nan-values-with-zeros/"
      ]
    },
    {
      "cell_type": "code",
      "metadata": {
        "id": "sqsE1qB6MHZ8",
        "outputId": "a5eeb6d0-09ed-4e82-9e1f-76d8edae23da",
        "colab": {
          "base_uri": "https://localhost:8080/",
          "height": 306
        }
      },
      "source": [
        "print(df1.isnull().sum())"
      ],
      "execution_count": 23,
      "outputs": [
        {
          "output_type": "stream",
          "text": [
            "iso_code                            288\n",
            "continent                           576\n",
            "location                              0\n",
            "date                                  0\n",
            "total_cases                         636\n",
            "new_cases                           860\n",
            "new_cases_smoothed                 1642\n",
            "total_deaths                        636\n",
            "new_deaths                          860\n",
            "new_deaths_smoothed                1642\n",
            "total_cases_per_million             924\n",
            "new_cases_per_million               924\n",
            "new_cases_smoothed_per_million     1707\n",
            "total_deaths_per_million            924\n",
            "new_deaths_per_million              924\n",
            "new_deaths_smoothed_per_million    1707\n",
            "dtype: int64\n"
          ],
          "name": "stdout"
        }
      ]
    },
    {
      "cell_type": "code",
      "metadata": {
        "id": "CIV76oelPCdH",
        "outputId": "ad3899b7-2769-498f-8003-b31867757236",
        "colab": {
          "base_uri": "https://localhost:8080/",
          "height": 275
        }
      },
      "source": [
        "df2 = df1.fillna(0)\n",
        "print(df2)"
      ],
      "execution_count": 24,
      "outputs": [
        {
          "output_type": "stream",
          "text": [
            "      iso_code      continent       location        date  total_cases  new_cases  new_cases_smoothed  total_deaths  new_deaths  new_deaths_smoothed  total_cases_per_million  new_cases_per_million  new_cases_smoothed_per_million  total_deaths_per_million  new_deaths_per_million  new_deaths_smoothed_per_million\n",
            "0          ABW  North America          Aruba  2020-03-13          2.0        2.0               0.000           0.0         0.0                  0.0                   18.733                 18.733                           0.000                       0.0                     0.0                              0.0\n",
            "1          ABW  North America          Aruba  2020-03-19          0.0        0.0               0.286           0.0         0.0                  0.0                    0.000                  0.000                           2.676                       0.0                     0.0                              0.0\n",
            "2          ABW  North America          Aruba  2020-03-20          4.0        2.0               0.286           0.0         0.0                  0.0                   37.465                 18.733                           2.676                       0.0                     0.0                              0.0\n",
            "3          ABW  North America          Aruba  2020-03-21          0.0        0.0               0.286           0.0         0.0                  0.0                    0.000                  0.000                           2.676                       0.0                     0.0                              0.0\n",
            "4          ABW  North America          Aruba  2020-03-22          0.0        0.0               0.286           0.0         0.0                  0.0                    0.000                  0.000                           2.676                       0.0                     0.0                              0.0\n",
            "...        ...            ...            ...         ...          ...        ...                 ...           ...         ...                  ...                      ...                    ...                             ...                       ...                     ...                              ...\n",
            "49873        0              0  International  2020-10-09        696.0        0.0               0.000           7.0         0.0                  0.0                    0.000                  0.000                           0.000                       0.0                     0.0                              0.0\n",
            "49874        0              0  International  2020-10-10        696.0        0.0               0.000           7.0         0.0                  0.0                    0.000                  0.000                           0.000                       0.0                     0.0                              0.0\n",
            "49875        0              0  International  2020-10-11        696.0        0.0               0.000           7.0         0.0                  0.0                    0.000                  0.000                           0.000                       0.0                     0.0                              0.0\n",
            "49876        0              0  International  2020-10-12        696.0        0.0               0.000           7.0         0.0                  0.0                    0.000                  0.000                           0.000                       0.0                     0.0                              0.0\n",
            "49877        0              0  International  2020-10-13        696.0        0.0               0.000           7.0         0.0                  0.0                    0.000                  0.000                           0.000                       0.0                     0.0                              0.0\n",
            "\n",
            "[49878 rows x 16 columns]\n"
          ],
          "name": "stdout"
        }
      ]
    },
    {
      "cell_type": "code",
      "metadata": {
        "id": "G-xKFlRfPZOD",
        "outputId": "ab6deb16-5583-4c8e-db91-95b6a9c9130b",
        "colab": {
          "base_uri": "https://localhost:8080/",
          "height": 306
        }
      },
      "source": [
        "print(df2.isnull().sum())"
      ],
      "execution_count": 25,
      "outputs": [
        {
          "output_type": "stream",
          "text": [
            "iso_code                           0\n",
            "continent                          0\n",
            "location                           0\n",
            "date                               0\n",
            "total_cases                        0\n",
            "new_cases                          0\n",
            "new_cases_smoothed                 0\n",
            "total_deaths                       0\n",
            "new_deaths                         0\n",
            "new_deaths_smoothed                0\n",
            "total_cases_per_million            0\n",
            "new_cases_per_million              0\n",
            "new_cases_smoothed_per_million     0\n",
            "total_deaths_per_million           0\n",
            "new_deaths_per_million             0\n",
            "new_deaths_smoothed_per_million    0\n",
            "dtype: int64\n"
          ],
          "name": "stdout"
        }
      ]
    },
    {
      "cell_type": "markdown",
      "metadata": {
        "id": "zow_mlojPdAV"
      },
      "source": [
        "###Save the data in new excel file\n",
        "\n",
        "https://datatofish.com/export-dataframe-to-excel/"
      ]
    },
    {
      "cell_type": "code",
      "metadata": {
        "id": "3BCLOB7ZPcfx"
      },
      "source": [
        "df2.to_excel (data_path+'Updated_131020.xlsx')"
      ],
      "execution_count": 26,
      "outputs": []
    }
  ]
}